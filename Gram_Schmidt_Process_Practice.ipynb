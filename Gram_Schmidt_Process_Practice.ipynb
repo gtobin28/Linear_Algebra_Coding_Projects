{
  "nbformat": 4,
  "nbformat_minor": 0,
  "metadata": {
    "colab": {
      "name": "Gram-Schmidt Process Practice.ipynb",
      "provenance": [],
      "authorship_tag": "ABX9TyPJix6s6gRwLqBSiPitNLOx",
      "include_colab_link": true
    },
    "kernelspec": {
      "name": "python3",
      "display_name": "Python 3"
    }
  },
  "cells": [
    {
      "cell_type": "markdown",
      "metadata": {
        "id": "view-in-github",
        "colab_type": "text"
      },
      "source": [
        "<a href=\"https://colab.research.google.com/github/gtobin28/Linear_Algebra_Coding_Projects/blob/master/Gram_Schmidt_Process_Practice.ipynb\" target=\"_parent\"><img src=\"https://colab.research.google.com/assets/colab-badge.svg\" alt=\"Open In Colab\"/></a>"
      ]
    },
    {
      "cell_type": "code",
      "metadata": {
        "id": "5hYdKWGNft9D"
      },
      "source": [
        "# Import numpy library\n",
        "\n",
        "import matplotlib.pyplot as plt\n",
        "from sympy import Poly\n",
        "import sympy as sym\n",
        "import numpy as np\n",
        "from numpy import c_\n",
        "\n",
        "# We'll specify that x and t are variables:\n",
        "x, t = sym.symbols('x, t')\n",
        "\n",
        "ll = \"loaded\""
      ],
      "execution_count": 3,
      "outputs": []
    },
    {
      "cell_type": "code",
      "metadata": {
        "id": "L6R0CFKSgNsL"
      },
      "source": [
        "# examples of matrix and vector definition\n",
        "\n",
        "# create the matrix:\n",
        "Matrix = np.matrix([[1, -1, 0, 0],\n",
        "               [1, 0, -1, 0],\n",
        "               [0, 1, -1, 0],\n",
        "               [0, 0, -1, 1],\n",
        "               [-1, 0, 0, 1]])\n",
        "\n",
        "\n",
        "# create the vector for the right hand side:\n",
        "points = np.matrix([[1], [14], [38], [11], [20]])"
      ],
      "execution_count": 9,
      "outputs": []
    },
    {
      "cell_type": "code",
      "metadata": {
        "id": "MH75yKbvhVpG",
        "outputId": "f0558fb1-345e-4e79-d273-edc86f073bb8",
        "colab": {
          "base_uri": "https://localhost:8080/",
          "height": 34
        }
      },
      "source": [
        "# How to do a dot product\n",
        "np.dot([1,2],[3,4])"
      ],
      "execution_count": 15,
      "outputs": [
        {
          "output_type": "execute_result",
          "data": {
            "text/plain": [
              "11"
            ]
          },
          "metadata": {
            "tags": []
          },
          "execution_count": 15
        }
      ]
    },
    {
      "cell_type": "code",
      "metadata": {
        "id": "kSMjBgTtivfw",
        "outputId": "c356f322-ef25-4d75-94f4-8fc95fd271db",
        "colab": {
          "base_uri": "https://localhost:8080/",
          "height": 34
        }
      },
      "source": [
        "# How to find magnitude in np\n",
        "np.sqrt(np.dot([1,2],[1,2]))"
      ],
      "execution_count": 14,
      "outputs": [
        {
          "output_type": "execute_result",
          "data": {
            "text/plain": [
              "2.23606797749979"
            ]
          },
          "metadata": {
            "tags": []
          },
          "execution_count": 14
        }
      ]
    },
    {
      "cell_type": "code",
      "metadata": {
        "id": "Nz1UwsTdiU6-",
        "outputId": "3c51a75e-9a4a-4126-b58b-3679da56fa01",
        "colab": {
          "base_uri": "https://localhost:8080/",
          "height": 34
        }
      },
      "source": [
        "# Define the original vectors\n",
        "\n",
        "r1 = [2,4,0,0]\n",
        "r2 = [1,2,3,6]\n",
        "r3 = [2,-1,2,-1]\n",
        "r4 = [1,2,3,4]\n",
        "\n",
        "# Look at vector r1\n",
        "r1"
      ],
      "execution_count": 18,
      "outputs": [
        {
          "output_type": "execute_result",
          "data": {
            "text/plain": [
              "[2, 4, 0, 0]"
            ]
          },
          "metadata": {
            "tags": []
          },
          "execution_count": 18
        }
      ]
    },
    {
      "cell_type": "code",
      "metadata": {
        "id": "D-SD4E_CogqP",
        "outputId": "0e540abc-297e-4b10-f8d3-024bd1340ce0",
        "colab": {
          "base_uri": "https://localhost:8080/",
          "height": 34
        }
      },
      "source": [
        "# Find the first nice basis vector u1:\n",
        "\n",
        "# 1: Pick a new vector\n",
        "r1\n",
        "\n",
        "# 2: Subtract the projection of r1 onto the nice basis u1, u2, u3...\n",
        "#  save this as a temp vector n1\n",
        "n1 = r1\n",
        "n1\n",
        "\n",
        "# 3: Find magnitude of n1\n",
        "magn1 = np.sqrt(np.dot(n1,n1))\n",
        "\n",
        "# 4: Create nice basis vector u1\n",
        "u1 = n1/magn1\n",
        "u1"
      ],
      "execution_count": 22,
      "outputs": [
        {
          "output_type": "execute_result",
          "data": {
            "text/plain": [
              "array([0.4472136 , 0.89442719, 0.        , 0.        ])"
            ]
          },
          "metadata": {
            "tags": []
          },
          "execution_count": 22
        }
      ]
    },
    {
      "cell_type": "code",
      "metadata": {
        "id": "0MRUxaxlpUJm",
        "outputId": "db244b8e-6d5c-46fc-ea8f-84a01b87e31b",
        "colab": {
          "base_uri": "https://localhost:8080/",
          "height": 34
        }
      },
      "source": [
        "# check u1 has a magnitude 1:\n",
        "np.dot(u1,u1)"
      ],
      "execution_count": 23,
      "outputs": [
        {
          "output_type": "execute_result",
          "data": {
            "text/plain": [
              "0.9999999999999999"
            ]
          },
          "metadata": {
            "tags": []
          },
          "execution_count": 23
        }
      ]
    },
    {
      "cell_type": "code",
      "metadata": {
        "id": "IokqV-djqLLN",
        "outputId": "ec51de93-8a7f-4500-8623-6ef369daf861",
        "colab": {
          "base_uri": "https://localhost:8080/",
          "height": 34
        }
      },
      "source": [
        "# Find the second nice basis vector u2:\n",
        "\n",
        "# 1: Pick a new vector\n",
        "r2\n",
        "\n",
        "# 2: Subtract the projection of r2 onto the nice basis u1, u2, u3...\n",
        "#  save this as a temp vector n2\n",
        "n2 = r2 - np.dot(r2,u1) * u1\n",
        "n2\n",
        "\n",
        "# 3: Find magnitude of n2\n",
        "magn2 = np.sqrt(np.dot(n2,n2))\n",
        "magn2\n",
        "\n",
        "# 4: Create nice basis vector u2\n",
        "u2 = n2/magn2\n",
        "u2"
      ],
      "execution_count": 40,
      "outputs": [
        {
          "output_type": "execute_result",
          "data": {
            "text/plain": [
              "array([0.        , 0.        , 0.4472136 , 0.89442719])"
            ]
          },
          "metadata": {
            "tags": []
          },
          "execution_count": 40
        }
      ]
    },
    {
      "cell_type": "code",
      "metadata": {
        "id": "jj3W0wBFrccB",
        "outputId": "5a354dbd-1d9d-41c2-df3c-e719ad1cd12f",
        "colab": {
          "base_uri": "https://localhost:8080/",
          "height": 34
        }
      },
      "source": [
        "# check u2 magnitude 1:\n",
        "np.dot(u2,u2)"
      ],
      "execution_count": 30,
      "outputs": [
        {
          "output_type": "execute_result",
          "data": {
            "text/plain": [
              "0.9999999999999999"
            ]
          },
          "metadata": {
            "tags": []
          },
          "execution_count": 30
        }
      ]
    },
    {
      "cell_type": "code",
      "metadata": {
        "id": "YUZn8YUpqgCE",
        "outputId": "51229fe9-aec4-46fc-9af5-c3e76879b57e",
        "colab": {
          "base_uri": "https://localhost:8080/",
          "height": 34
        }
      },
      "source": [
        "# check that u1 and u2 are orthogonal:\n",
        "np.dot(u1,u2)"
      ],
      "execution_count": 29,
      "outputs": [
        {
          "output_type": "execute_result",
          "data": {
            "text/plain": [
              "0.0"
            ]
          },
          "metadata": {
            "tags": []
          },
          "execution_count": 29
        }
      ]
    },
    {
      "cell_type": "code",
      "metadata": {
        "id": "UZ1MA-1irjpC",
        "outputId": "a090632b-0ce7-4aab-9492-a3b98c0ec1a6",
        "colab": {
          "base_uri": "https://localhost:8080/",
          "height": 34
        }
      },
      "source": [
        "# Find the third nice basis vector u3:\n",
        "\n",
        "# 1: Pick a new vector\n",
        "r3\n",
        "\n",
        "# 2: Subtract the projection of r3 onto the nice basis u1, u2, u3...\n",
        "#  save this as a temp vector n3\n",
        "n3 = r3 - np.dot(r3,u1) * u1 - np.dot(r3,u2) * u2\n",
        "n3\n",
        "\n",
        "# 3: Find magnitude of n3\n",
        "magn3 = np.sqrt(np.dot(n3,n3))\n",
        "magn3\n",
        "\n",
        "# 4: Create nice basis vector u3\n",
        "u3 = n3/magn3\n",
        "u3"
      ],
      "execution_count": 34,
      "outputs": [
        {
          "output_type": "execute_result",
          "data": {
            "text/plain": [
              "array([ 0.63245553, -0.31622777,  0.63245553, -0.31622777])"
            ]
          },
          "metadata": {
            "tags": []
          },
          "execution_count": 34
        }
      ]
    },
    {
      "cell_type": "code",
      "metadata": {
        "id": "iqDUtxAcsA-7",
        "outputId": "8d779915-bd20-409b-f9fd-543d4613625c",
        "colab": {
          "base_uri": "https://localhost:8080/",
          "height": 34
        }
      },
      "source": [
        "# check u3 magnitude 1:\n",
        "np.dot(u3,u3)"
      ],
      "execution_count": 35,
      "outputs": [
        {
          "output_type": "execute_result",
          "data": {
            "text/plain": [
              "1.0"
            ]
          },
          "metadata": {
            "tags": []
          },
          "execution_count": 35
        }
      ]
    },
    {
      "cell_type": "code",
      "metadata": {
        "id": "7KgjRsrjsj1D",
        "outputId": "58a9dbbf-a3cc-4a39-a6b2-c4d55d6c431b",
        "colab": {
          "base_uri": "https://localhost:8080/",
          "height": 50
        }
      },
      "source": [
        "# check that u3 is orthogonal to u1 and u2:\n",
        "print(np.dot(u1,u3))\n",
        "print(np.dot(u2,u3))"
      ],
      "execution_count": 39,
      "outputs": [
        {
          "output_type": "stream",
          "text": [
            "0.0\n",
            "0.0\n"
          ],
          "name": "stdout"
        }
      ]
    },
    {
      "cell_type": "code",
      "metadata": {
        "id": "ydu-JMOXst0Z",
        "outputId": "7143820f-271a-4d63-be29-cd87160af06a",
        "colab": {
          "base_uri": "https://localhost:8080/",
          "height": 34
        }
      },
      "source": [
        "# Find the fourth nice basis vector u4:\n",
        "\n",
        "# 1: Pick a new vector\n",
        "r4\n",
        "\n",
        "# 2: Subtract the projection of r4 onto the nice basis u1, u2, u3...\n",
        "#  save this as a temp vector n4\n",
        "n4 = r4 - np.dot(r4,u1) * u1 - np.dot(r4,u2) * u2 - np.dot(r4,u3) * u3\n",
        "n4\n",
        "\n",
        "# 3: Find magnitude of n4\n",
        "magn4 = np.sqrt(np.dot(n4,n4))\n",
        "magn4\n",
        "\n",
        "# 4: Create nice basis vector u4\n",
        "u4 = n4/magn4\n",
        "u4"
      ],
      "execution_count": 41,
      "outputs": [
        {
          "output_type": "execute_result",
          "data": {
            "text/plain": [
              "array([-0.63245553,  0.31622777,  0.63245553, -0.31622777])"
            ]
          },
          "metadata": {
            "tags": []
          },
          "execution_count": 41
        }
      ]
    },
    {
      "cell_type": "code",
      "metadata": {
        "id": "-7D-gYNnthZ2",
        "outputId": "b6ef2920-7428-4b6b-e5ac-17c03d85590a",
        "colab": {
          "base_uri": "https://localhost:8080/",
          "height": 34
        }
      },
      "source": [
        "# check u3 magnitude 1:\n",
        "np.dot(u4,u4)"
      ],
      "execution_count": 42,
      "outputs": [
        {
          "output_type": "execute_result",
          "data": {
            "text/plain": [
              "0.9999999999999998"
            ]
          },
          "metadata": {
            "tags": []
          },
          "execution_count": 42
        }
      ]
    },
    {
      "cell_type": "code",
      "metadata": {
        "id": "P3rcgRXutlIc",
        "outputId": "2dc86c8f-66db-4672-bb07-af1a92590e5e",
        "colab": {
          "base_uri": "https://localhost:8080/",
          "height": 67
        }
      },
      "source": [
        "# check that u3 is orthogonal to u1, u2, and u3:\n",
        "print(np.dot(u1,u4))\n",
        "print(np.dot(u2,u4))\n",
        "print(np.dot(u3,u4))"
      ],
      "execution_count": 44,
      "outputs": [
        {
          "output_type": "stream",
          "text": [
            "0.0\n",
            "9.43689570931383e-16\n",
            "9.71445146547012e-17\n"
          ],
          "name": "stdout"
        }
      ]
    },
    {
      "cell_type": "code",
      "metadata": {
        "id": "CMqvpBtJtqej"
      },
      "source": [
        ""
      ],
      "execution_count": null,
      "outputs": []
    }
  ]
}