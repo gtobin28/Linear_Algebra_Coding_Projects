{
  "nbformat": 4,
  "nbformat_minor": 0,
  "metadata": {
    "colab": {
      "name": "Finding Determinants of Matricies.ipynb",
      "provenance": [],
      "collapsed_sections": [],
      "authorship_tag": "ABX9TyMQNFao3hMUV4157OnPmgCZ",
      "include_colab_link": true
    },
    "kernelspec": {
      "name": "python3",
      "display_name": "Python 3"
    }
  },
  "cells": [
    {
      "cell_type": "markdown",
      "metadata": {
        "id": "view-in-github",
        "colab_type": "text"
      },
      "source": [
        "<a href=\"https://colab.research.google.com/github/gtobin28/Linear_Algebra_Coding_Projects/blob/master/Finding_Determinants_of_Matricies.ipynb\" target=\"_parent\"><img src=\"https://colab.research.google.com/assets/colab-badge.svg\" alt=\"Open In Colab\"/></a>"
      ]
    },
    {
      "cell_type": "code",
      "metadata": {
        "id": "vsG8CRjd9rPJ"
      },
      "source": [
        "# Import numpy library\n",
        "\n",
        "import matplotlib.pyplot as plt\n",
        "from sympy import Poly\n",
        "import sympy as sym\n",
        "import numpy as np\n",
        "from numpy import c_\n",
        "\n",
        "# We'll specify that x and t are variables:\n",
        "x, t = sym.symbols('x, t')\n",
        "\n",
        "ll = \"loaded\""
      ],
      "execution_count": 2,
      "outputs": []
    },
    {
      "cell_type": "code",
      "metadata": {
        "id": "nIB2FG9E91Sl"
      },
      "source": [
        "# create the matrix:\n",
        "M = np.matrix([[1, -1, 0, 0],\n",
        "               [1, 0, -1, 0],\n",
        "               [0, 1, -1, 0],\n",
        "               [0, 0, -1, 1]])"
      ],
      "execution_count": 3,
      "outputs": []
    },
    {
      "cell_type": "code",
      "metadata": {
        "id": "eZnIpuUc94iC",
        "outputId": "043effc9-80ce-4631-9242-424d9f43f897",
        "colab": {
          "base_uri": "https://localhost:8080/",
          "height": 34
        }
      },
      "source": [
        "# Find determinant of a matrix M\n",
        "np.linalg.det(M)"
      ],
      "execution_count": 4,
      "outputs": [
        {
          "output_type": "execute_result",
          "data": {
            "text/plain": [
              "0.0"
            ]
          },
          "metadata": {
            "tags": []
          },
          "execution_count": 4
        }
      ]
    },
    {
      "cell_type": "markdown",
      "metadata": {
        "id": "iXXm2FIY7VJQ"
      },
      "source": [
        "Homework Problem 2"
      ]
    },
    {
      "cell_type": "code",
      "metadata": {
        "id": "-RqJiIwo_lZR"
      },
      "source": [
        "A = np.matrix([[3, 2, 3],\n",
        "               [-6, 1, -10],\n",
        "               [-8, -9, -9]])\n",
        "\n",
        "B = np.matrix([[1, -2, 1],\n",
        "               [5, 5, 4],\n",
        "               [4, 0, 0]])\n",
        "\n",
        "C = np.matrix([[1, 0, 0],\n",
        "               [0, 2, 0],\n",
        "               [-3, -2, 1]])"
      ],
      "execution_count": 6,
      "outputs": []
    },
    {
      "cell_type": "code",
      "metadata": {
        "id": "9bc4VOLc7suI",
        "outputId": "3252142d-3d90-46b0-8448-ad6606420d6c",
        "colab": {
          "base_uri": "https://localhost:8080/",
          "height": 134
        }
      },
      "source": [
        "print(A*B)\n",
        "print()\n",
        "print(B*A)"
      ],
      "execution_count": 15,
      "outputs": [
        {
          "output_type": "stream",
          "text": [
            "[[ 25   4  11]\n",
            " [-41  17  -2]\n",
            " [-89 -29 -44]]\n",
            "\n",
            "[[  7  -9  14]\n",
            " [-47 -21 -71]\n",
            " [ 12   8  12]]\n"
          ],
          "name": "stdout"
        }
      ]
    },
    {
      "cell_type": "code",
      "metadata": {
        "id": "ss5qJ-3u8XEf",
        "outputId": "30415e64-2ec3-4525-c82b-4d420d35db14",
        "colab": {
          "base_uri": "https://localhost:8080/",
          "height": 34
        }
      },
      "source": [
        "print(np.linalg.det(A*B), np.linalg.det(B*A))"
      ],
      "execution_count": 16,
      "outputs": [
        {
          "output_type": "stream",
          "text": [
            "3067.9999999999973 3067.9999999999973\n"
          ],
          "name": "stdout"
        }
      ]
    },
    {
      "cell_type": "code",
      "metadata": {
        "id": "oyJQkwBA9A--",
        "outputId": "dc073e33-de94-43eb-ee49-3459cc8fb989",
        "colab": {
          "base_uri": "https://localhost:8080/",
          "height": 134
        }
      },
      "source": [
        "print(A*C)\n",
        "print()\n",
        "print(C*A)"
      ],
      "execution_count": 17,
      "outputs": [
        {
          "output_type": "stream",
          "text": [
            "[[ -6  -2   3]\n",
            " [ 24  22 -10]\n",
            " [ 19   0  -9]]\n",
            "\n",
            "[[  3   2   3]\n",
            " [-12   2 -20]\n",
            " [ -5 -17   2]]\n"
          ],
          "name": "stdout"
        }
      ]
    },
    {
      "cell_type": "code",
      "metadata": {
        "id": "l54BQMAT-O2R",
        "outputId": "a13b3667-8339-43c6-a1e6-71a280a5b871",
        "colab": {
          "base_uri": "https://localhost:8080/",
          "height": 34
        }
      },
      "source": [
        "print(np.linalg.det(A*C), np.linalg.det(C*A))"
      ],
      "execution_count": 18,
      "outputs": [
        {
          "output_type": "stream",
          "text": [
            "-118.00000000000004 -118.00000000000004\n"
          ],
          "name": "stdout"
        }
      ]
    },
    {
      "cell_type": "code",
      "metadata": {
        "id": "r10HhqiPKrM9",
        "outputId": "c6f571ef-307e-4fb0-9007-836deaca07a5",
        "colab": {
          "base_uri": "https://localhost:8080/",
          "height": 134
        }
      },
      "source": [
        "print(B*C)\n",
        "print()\n",
        "print(C*B)"
      ],
      "execution_count": 19,
      "outputs": [
        {
          "output_type": "stream",
          "text": [
            "[[-2 -6  1]\n",
            " [-7  2  4]\n",
            " [ 4  0  0]]\n",
            "\n",
            "[[  1  -2   1]\n",
            " [ 10  10   8]\n",
            " [ -9  -4 -11]]\n"
          ],
          "name": "stdout"
        }
      ]
    },
    {
      "cell_type": "code",
      "metadata": {
        "id": "_Ow1ouc2K_h5",
        "outputId": "ec888c45-09d1-4c97-85c8-803f0b44007f",
        "colab": {
          "base_uri": "https://localhost:8080/",
          "height": 34
        }
      },
      "source": [
        "print(np.linalg.det(B*C), np.linalg.det(C*B))"
      ],
      "execution_count": 20,
      "outputs": [
        {
          "output_type": "stream",
          "text": [
            "-103.99999999999999 -104.00000000000007\n"
          ],
          "name": "stdout"
        }
      ]
    },
    {
      "cell_type": "code",
      "metadata": {
        "id": "zGv9oX-xL2ln",
        "outputId": "dcfd4050-8ea8-4c83-a07b-4f2e4bf5555d",
        "colab": {
          "base_uri": "https://localhost:8080/",
          "height": 34
        }
      },
      "source": [
        "np.linalg.det(A)"
      ],
      "execution_count": 21,
      "outputs": [
        {
          "output_type": "execute_result",
          "data": {
            "text/plain": [
              "-58.999999999999964"
            ]
          },
          "metadata": {
            "tags": []
          },
          "execution_count": 21
        }
      ]
    },
    {
      "cell_type": "code",
      "metadata": {
        "id": "wZ4xkgDEN4_W"
      },
      "source": [
        ""
      ],
      "execution_count": null,
      "outputs": []
    }
  ]
}